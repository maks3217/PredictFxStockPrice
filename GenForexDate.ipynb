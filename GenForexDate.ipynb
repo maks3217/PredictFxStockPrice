{
 "cells": [
  {
   "cell_type": "code",
   "execution_count": 3,
   "metadata": {},
   "outputs": [],
   "source": [
    "import pandas as pd\n",
    "import numpy as np\n",
    "import fxcmpy\n",
    "import datetime as dt\n",
    "\n",
    "con = fxcmpy.fxcmpy(config_file='fxcm.cfg')"
   ]
  },
  {
   "cell_type": "code",
   "execution_count": 10,
   "metadata": {},
   "outputs": [],
   "source": [
    "columnsName = ['bidhigh','bidlow']\n",
    "CurrencyName = ['EUR/USD', 'USD/JPY', 'GBP/USD', 'USD/CHF', 'EUR/CHF', 'AUD/USD', 'USD/CAD', 'NZD/USD', 'EUR/GBP', 'EUR/JPY', 'GBP/JPY', 'CHF/JPY', 'GBP/CHF']\n",
    "start = dt.datetime(2017, 1, 1)\n",
    "stop = dt.datetime(2019, 1, 1)\n",
    "date = con.get_candles('EUR/USD', period='D1',\n",
    "                start=start, stop=stop, columns=['date'])\n",
    "\n",
    "for i in range(len(CurrencyName)):\n",
    "    Currency = con.get_candles(CurrencyName[i], period='D1',\n",
    "                start=start, stop=stop, columns=columnsName)\n",
    "    date[CurrencyName[i]] = Currency.mean(axis = 1)\n",
    "\n",
    "date.to_csv(\"ForexDate.csv\")\n"
   ]
  },
  {
   "cell_type": "code",
   "execution_count": null,
   "metadata": {},
   "outputs": [],
   "source": [
    "\n"
   ]
  },
  {
   "cell_type": "code",
   "execution_count": null,
   "metadata": {},
   "outputs": [],
   "source": []
  },
  {
   "cell_type": "code",
   "execution_count": null,
   "metadata": {},
   "outputs": [],
   "source": []
  },
  {
   "cell_type": "code",
   "execution_count": null,
   "metadata": {},
   "outputs": [],
   "source": []
  }
 ],
 "metadata": {
  "kernelspec": {
   "display_name": "Python 3",
   "language": "python",
   "name": "python3"
  },
  "language_info": {
   "codemirror_mode": {
    "name": "ipython",
    "version": 3
   },
   "file_extension": ".py",
   "mimetype": "text/x-python",
   "name": "python",
   "nbconvert_exporter": "python",
   "pygments_lexer": "ipython3",
   "version": "3.6.8"
  }
 },
 "nbformat": 4,
 "nbformat_minor": 2
}
